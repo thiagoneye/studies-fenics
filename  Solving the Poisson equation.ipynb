{
 "cells": [
  {
   "cell_type": "markdown",
   "id": "943ee086-3c9e-4b26-b8fa-3fff87c1dffb",
   "metadata": {},
   "source": [
    "## Generating simple meshes"
   ]
  },
  {
   "cell_type": "code",
   "execution_count": 6,
   "id": "99182ad1-3b27-47ed-8e69-dfa197ff3c4d",
   "metadata": {},
   "outputs": [],
   "source": [
    "from dolfinx import plot\n",
    "import pyvista\n",
    "from dolfinx.fem.petsc import LinearProblem\n",
    "from dolfinx import default_scalar_type\n",
    "import ufl\n",
    "import numpy\n",
    "from dolfinx import fem\n",
    "from dolfinx.fem import functionspace\n",
    "from mpi4py import MPI\n",
    "from dolfinx import mesh\n",
    "domain = mesh.create_unit_square(\n",
    "    MPI.COMM_WORLD, 8, 8, mesh.CellType.quadrilateral)\n"
   ]
  },
  {
   "cell_type": "markdown",
   "id": "c3663e53-4dd4-4bf6-aa62-0b74eb3b93fc",
   "metadata": {},
   "source": [
    "## Defining the finite element function space"
   ]
  },
  {
   "cell_type": "code",
   "execution_count": 7,
   "id": "d0e83410-5564-4e18-98b9-ff999b7df179",
   "metadata": {},
   "outputs": [],
   "source": [
    "V = functionspace(domain, (\"Lagrange\", 1))\n",
    "\n",
    "uD = fem.Function(V)\n",
    "uD.interpolate(lambda x: 1 + x[0]**2 + 2 * x[1]**2)\n"
   ]
  },
  {
   "cell_type": "markdown",
   "id": "25c76e6a-6a50-474f-aa18-1c08b643af99",
   "metadata": {},
   "source": [
    "## Create facet to cell connectivity required to determine boundary facets"
   ]
  },
  {
   "cell_type": "code",
   "execution_count": 8,
   "id": "f15cb0d5-5c44-466a-8bb0-6df74526769f",
   "metadata": {},
   "outputs": [],
   "source": [
    "tdim = domain.topology.dim\n",
    "fdim = tdim - 1\n",
    "domain.topology.create_connectivity(fdim, tdim)\n",
    "boundary_facets = mesh.exterior_facet_indices(domain.topology)\n",
    "\n",
    "boundary_dofs = fem.locate_dofs_topological(V, fdim, boundary_facets)\n",
    "bc = fem.dirichletbc(uD, boundary_dofs)\n"
   ]
  },
  {
   "cell_type": "markdown",
   "id": "5216c233-9af9-432c-a218-b1fbcd41e615",
   "metadata": {},
   "source": [
    "## Defining the trial and test function"
   ]
  },
  {
   "cell_type": "code",
   "execution_count": 9,
   "id": "744cdaf1-e313-4109-8957-80764dda4b3a",
   "metadata": {},
   "outputs": [],
   "source": [
    "u = ufl.TrialFunction(V)\n",
    "v = ufl.TestFunction(V)\n"
   ]
  },
  {
   "cell_type": "markdown",
   "id": "0ed56f31-275d-4d97-847e-62a6943520a0",
   "metadata": {},
   "source": [
    "## Defining the source term"
   ]
  },
  {
   "cell_type": "code",
   "execution_count": 10,
   "id": "99536c33-efe4-4388-a1e7-00dc0f8aae7e",
   "metadata": {},
   "outputs": [],
   "source": [
    "f = fem.Constant(domain, default_scalar_type(-6))\n"
   ]
  },
  {
   "cell_type": "markdown",
   "id": "d92b4673-f48a-407e-8d53-5be3c4ebc1d4",
   "metadata": {},
   "source": [
    "## Defining the variational problem"
   ]
  },
  {
   "cell_type": "code",
   "execution_count": 11,
   "id": "5db6dc5e-1825-47ea-9078-c48195e1d855",
   "metadata": {},
   "outputs": [],
   "source": [
    "a = ufl.dot(ufl.grad(u), ufl.grad(v)) * ufl.dx\n",
    "L = f * v * ufl.dx\n"
   ]
  },
  {
   "cell_type": "markdown",
   "id": "053ac391-57dc-458d-876c-3e7edc1bcf9f",
   "metadata": {},
   "source": [
    "## Forming and solving the linear system"
   ]
  },
  {
   "cell_type": "code",
   "execution_count": 12,
   "id": "c833fe4f-6edd-4cf3-b7e3-cbb33f0ecd7c",
   "metadata": {},
   "outputs": [],
   "source": [
    "problem = LinearProblem(a, L, bcs=[bc], petsc_options={\n",
    "                        \"ksp_type\": \"preonly\", \"pc_type\": \"lu\"})\n",
    "uh = problem.solve()\n"
   ]
  },
  {
   "cell_type": "markdown",
   "id": "caec17e3-8947-4423-b446-df318b4dbcf7",
   "metadata": {},
   "source": [
    "## Computing the error"
   ]
  },
  {
   "cell_type": "code",
   "execution_count": 14,
   "id": "6ada781f-256e-4d47-9261-277d078c2ee7",
   "metadata": {},
   "outputs": [
    {
     "name": "stdout",
     "output_type": "stream",
     "text": [
      "Error_L2 : 8.24e-03\n",
      "Error_max : 4.00e-15\n"
     ]
    }
   ],
   "source": [
    "V2 = fem.functionspace(domain, (\"Lagrange\", 2))\n",
    "uex = fem.Function(V2)\n",
    "uex.interpolate(lambda x: 1 + x[0]**2 + 2 * x[1]**2)\n",
    "\n",
    "L2_error = fem.form(ufl.inner(uh - uex, uh - uex) * ufl.dx)\n",
    "error_local = fem.assemble_scalar(L2_error)\n",
    "error_L2 = numpy.sqrt(domain.comm.allreduce(error_local, op=MPI.SUM))\n",
    "\n",
    "error_max = numpy.max(numpy.abs(uD.x.array-uh.x.array))\n",
    "# Only print the error on one process\n",
    "if domain.comm.rank == 0:\n",
    "    print(f\"Error_L2 : {error_L2:.2e}\")\n",
    "    print(f\"Error_max : {error_max:.2e}\")\n"
   ]
  },
  {
   "cell_type": "markdown",
   "id": "758d0f0a-c852-4082-b9d0-9ff04a159d76",
   "metadata": {},
   "source": [
    "## Plotting the mesh using pyvista"
   ]
  },
  {
   "cell_type": "code",
   "execution_count": 18,
   "id": "0ac43d5f-32bb-40cc-a8d1-4c34cba636d0",
   "metadata": {},
   "outputs": [
    {
     "name": "stdout",
     "output_type": "stream",
     "text": [
      "trame\n"
     ]
    },
    {
     "ename": "OSError",
     "evalue": "Please install Xvfb with:\n\nDebian\n$ sudo apt install libgl1-mesa-glx xvfb\n\nCentOS / RHL\n$ sudo yum install libgl1-mesa-glx xvfb\n\n",
     "output_type": "error",
     "traceback": [
      "\u001b[31m---------------------------------------------------------------------------\u001b[39m",
      "\u001b[31mOSError\u001b[39m                                   Traceback (most recent call last)",
      "\u001b[36mCell\u001b[39m\u001b[36m \u001b[39m\u001b[32mIn[18]\u001b[39m\u001b[32m, line 5\u001b[39m\n\u001b[32m      2\u001b[39m \u001b[38;5;28mprint\u001b[39m(pyvista.global_theme.jupyter_backend)\n\u001b[32m      4\u001b[39m \u001b[38;5;28;01mfrom\u001b[39;00m\u001b[38;5;250m \u001b[39m\u001b[34;01mdolfinx\u001b[39;00m\u001b[38;5;250m \u001b[39m\u001b[38;5;28;01mimport\u001b[39;00m plot\n\u001b[32m----> \u001b[39m\u001b[32m5\u001b[39m \u001b[43mpyvista\u001b[49m\u001b[43m.\u001b[49m\u001b[43mstart_xvfb\u001b[49m\u001b[43m(\u001b[49m\u001b[43m)\u001b[49m\n\u001b[32m      6\u001b[39m domain.topology.create_connectivity(tdim, tdim)\n\u001b[32m      7\u001b[39m topology, cell_types, geometry = plot.vtk_mesh(domain, tdim)\n",
      "\u001b[36mFile \u001b[39m\u001b[32m~/anaconda3/envs/fenicsx-env/lib/python3.13/site-packages/pyvista/plotting/utilities/xvfb.py:50\u001b[39m, in \u001b[36mstart_xvfb\u001b[39m\u001b[34m(wait, window_size)\u001b[39m\n\u001b[32m     47\u001b[39m     \u001b[38;5;28;01mraise\u001b[39;00m \u001b[38;5;167;01mOSError\u001b[39;00m(\u001b[33m'\u001b[39m\u001b[33m`start_xvfb` is only supported on Linux\u001b[39m\u001b[33m'\u001b[39m)\n\u001b[32m     49\u001b[39m \u001b[38;5;28;01mif\u001b[39;00m os.system(\u001b[33m'\u001b[39m\u001b[33mwhich Xvfb > /dev/null\u001b[39m\u001b[33m'\u001b[39m):\n\u001b[32m---> \u001b[39m\u001b[32m50\u001b[39m     \u001b[38;5;28;01mraise\u001b[39;00m \u001b[38;5;167;01mOSError\u001b[39;00m(XVFB_INSTALL_NOTES)\n\u001b[32m     52\u001b[39m \u001b[38;5;66;03m# use current default window size\u001b[39;00m\n\u001b[32m     53\u001b[39m \u001b[38;5;28;01mif\u001b[39;00m window_size \u001b[38;5;129;01mis\u001b[39;00m \u001b[38;5;28;01mNone\u001b[39;00m:\n",
      "\u001b[31mOSError\u001b[39m: Please install Xvfb with:\n\nDebian\n$ sudo apt install libgl1-mesa-glx xvfb\n\nCentOS / RHL\n$ sudo yum install libgl1-mesa-glx xvfb\n\n"
     ]
    }
   ],
   "source": [
    "import pyvista\n",
    "print(pyvista.global_theme.jupyter_backend)\n",
    "\n",
    "from dolfinx import plot\n",
    "pyvista.start_xvfb()\n",
    "domain.topology.create_connectivity(tdim, tdim)\n",
    "topology, cell_types, geometry = plot.vtk_mesh(domain, tdim)\n",
    "grid = pyvista.UnstructuredGrid(topology, cell_types, geometry)\n",
    "\n",
    "plotter = pyvista.Plotter()\n",
    "plotter.add_mesh(grid, show_edges=True)\n",
    "plotter.view_xy()\n",
    "if not pyvista.OFF_SCREEN:\n",
    "    plotter.show()\n",
    "else:\n",
    "    figure = plotter.screenshot(\"fundamentals_mesh.png\")\n",
    "    "
   ]
  },
  {
   "cell_type": "markdown",
   "id": "10aed6c5-2599-44a5-bb06-32eae9def932",
   "metadata": {},
   "source": [
    "## Plotting a function using pyvista"
   ]
  },
  {
   "cell_type": "code",
   "execution_count": null,
   "id": "0a961a0d-d8d2-4ac4-88c0-9c348dea7f17",
   "metadata": {},
   "outputs": [],
   "source": [
    "u_topology, u_cell_types, u_geometry = plot.vtk_mesh(V)\n",
    "\n",
    "u_grid = pyvista.UnstructuredGrid(u_topology, u_cell_types, u_geometry)\n",
    "u_grid.point_data[\"u\"] = uh.x.array.real\n",
    "u_grid.set_active_scalars(\"u\")\n",
    "u_plotter = pyvista.Plotter()\n",
    "u_plotter.add_mesh(u_grid, show_edges=True)\n",
    "u_plotter.view_xy()\n",
    "if not pyvista.OFF_SCREEN:\n",
    "    u_plotter.show()\n",
    "\n",
    "warped = u_grid.warp_by_scalar()\n",
    "plotter2 = pyvista.Plotter()\n",
    "plotter2.add_mesh(warped, show_edges=True, show_scalar_bar=True)\n",
    "if not pyvista.OFF_SCREEN:\n",
    "    plotter2.show()\n",
    "    "
   ]
  },
  {
   "cell_type": "markdown",
   "id": "84b3a259-8af1-4653-9c35-319fd3020d80",
   "metadata": {},
   "source": [
    "## External post-processing"
   ]
  },
  {
   "cell_type": "code",
   "execution_count": null,
   "id": "c059d30c-5e49-4a1c-96ff-88d21aafcca5",
   "metadata": {},
   "outputs": [],
   "source": [
    "from dolfinx import io\n",
    "from pathlib import Path\n",
    "results_folder = Path(\"results\")\n",
    "results_folder.mkdir(exist_ok=True, parents=True)\n",
    "filename = results_folder / \"fundamentals\"\n",
    "with io.VTXWriter(domain.comm, filename.with_suffix(\".bp\"), [uh]) as vtx:\n",
    "    vtx.write(0.0)\n",
    "with io.XDMFFile(domain.comm, filename.with_suffix(\".xdmf\"), \"w\") as xdmf:\n",
    "    xdmf.write_mesh(domain)\n",
    "    xdmf.write_function(uh)\n",
    "    "
   ]
  }
 ],
 "metadata": {
  "kernelspec": {
   "display_name": "fenicsx-env",
   "language": "python",
   "name": "python3"
  },
  "language_info": {
   "codemirror_mode": {
    "name": "ipython",
    "version": 3
   },
   "file_extension": ".py",
   "mimetype": "text/x-python",
   "name": "python",
   "nbconvert_exporter": "python",
   "pygments_lexer": "ipython3",
   "version": "3.13.2"
  }
 },
 "nbformat": 4,
 "nbformat_minor": 5
}
